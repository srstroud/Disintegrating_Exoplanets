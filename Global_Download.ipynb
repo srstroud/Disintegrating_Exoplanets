{
 "cells": [
  {
   "cell_type": "code",
   "execution_count": 1,
   "metadata": {},
   "outputs": [],
   "source": [
    "#!pip install lightkurve"
   ]
  },
  {
   "cell_type": "code",
   "execution_count": 2,
   "metadata": {},
   "outputs": [],
   "source": [
    "#Misc imports\n",
    "import matplotlib.pyplot as plt"
   ]
  },
  {
   "cell_type": "code",
   "execution_count": 3,
   "metadata": {},
   "outputs": [],
   "source": [
    "#Imports from tessutils.py\n",
    "from astropy.table import Table\n",
    "import astropy.units as u\n",
    "from astropy.io import fits \n",
    "import os\n",
    "from lightkurve import LightCurve\n",
    "import numpy as np\n",
    "import requests\n",
    "import gzip \n",
    "import pickle\n",
    "\n",
    "import logging\n",
    "logger = logging.getLogger(__name__)\n",
    "\n",
    "import subprocess\n",
    "from matplotlib import rc"
   ]
  },
  {
   "cell_type": "code",
   "execution_count": 4,
   "metadata": {},
   "outputs": [
    {
     "name": "stdout",
     "output_type": "stream",
     "text": [
      "gzip was not found on your system! You should solve this issue for astroquery.eso to be at its best!\n",
      "On POSIX system: make sure gzip is installed and in your path!On Windows: same for 7-zip (http://www.7-zip.org)!\n",
      "Searching for target WASP-121\n"
     ]
    },
    {
     "name": "stderr",
     "output_type": "stream",
     "text": [
      "2019-10-07 10:23:23,503 INFO: root(<module>): *** WASP-121 (1/4) ********************************************************************************\n"
     ]
    },
    {
     "name": "stdout",
     "output_type": "stream",
     "text": [
      "Closest TIC ID to WASP-121: TIC 22529346, separation of 0.000000 arcsec. and a TESS mag. of 10.056000\n"
     ]
    },
    {
     "name": "stderr",
     "output_type": "stream",
     "text": [
      "2019-10-07 10:23:27,720 INFO: root(<module>): Retrieved info: name=WASP-121, obsID=tess2019006130736-s0007-0000000022529346-0131-s\n"
     ]
    },
    {
     "name": "stdout",
     "output_type": "stream",
     "text": [
      "Downloading URL https://mast.stsci.edu/api/v0.1/Download/file?uri=mast:TESS/product/tess2019008025936-s0007-s0007-0000000022529346-00152_dvt.fits to ./mastDownload\\TESS\\tess2019006130736-s0007-0000000022529346-0131-s\\tess2019008025936-s0007-s0007-0000000022529346-00152_dvt.fits ... [Done]\n",
      "Downloading URL https://mast.stsci.edu/api/v0.1/Download/file?uri=mast:TESS/product/tess2019006130736-s0007-0000000022529346-0131-s_lc.fits to ./mastDownload\\TESS\\tess2019006130736-s0007-0000000022529346-0131-s\\tess2019006130736-s0007-0000000022529346-0131-s_lc.fits ... [Done]\n",
      "Downloading URL https://mast.stsci.edu/api/v0.1/Download/file?uri=mast:TESS/product/tess2019006130736-s0007-0000000022529346-0131-s_tp.fits to ./mastDownload\\TESS\\tess2019006130736-s0007-0000000022529346-0131-s\\tess2019006130736-s0007-0000000022529346-0131-s_tp.fits ... [Done]\n",
      "---------------------------------------------\n",
      "Searching for target TIC 144440290\n"
     ]
    },
    {
     "name": "stderr",
     "output_type": "stream",
     "text": [
      "2019-10-07 10:23:36,699 INFO: root(<module>): *** TIC 144440290 (2/4) ********************************************************************************\n"
     ]
    },
    {
     "name": "stdout",
     "output_type": "stream",
     "text": [
      "Closest TIC ID to TIC 144440290: TIC 144440290, separation of 0.000000 arcsec. and a TESS mag. of 8.763500\n"
     ]
    },
    {
     "name": "stderr",
     "output_type": "stream",
     "text": [
      "D:\\Anaconda3\\lib\\site-packages\\astroquery\\simbad\\core.py:138: UserWarning: Warning: The script line number 3 raised an error (recorded in the `errors` attribute of the result table): Identifier not found in the database : TIC 144440290\n",
      "  (error.line, error.msg))\n",
      "D:\\Anaconda3\\lib\\site-packages\\astroquery\\simbad\\core.py:138: UserWarning: Warning: The script line number 3 raised an error (recorded in the `errors` attribute of the result table): '118045': No known catalog could be found\n",
      "  (error.line, error.msg))\n",
      "D:\\Anaconda3\\lib\\site-packages\\astroquery\\simbad\\core.py:138: UserWarning: Warning: The script line number 3 raised an error (recorded in the `errors` attribute of the result table): '8021-00903-1': No known catalog could be found\n",
      "  (error.line, error.msg))\n",
      "D:\\Anaconda3\\lib\\site-packages\\astroquery\\simbad\\core.py:138: UserWarning: Warning: The script line number 3 raised an error (recorded in the `errors` attribute of the result table): '227-198267': No known catalog could be found\n",
      "  (error.line, error.msg))\n",
      "D:\\Anaconda3\\lib\\site-packages\\astroquery\\simbad\\core.py:138: UserWarning: Warning: The script line number 3 raised an error (recorded in the `errors` attribute of the result table): '23563876-4443086': No known catalog could be found\n",
      "  (error.line, error.msg))\n",
      "D:\\Anaconda3\\lib\\site-packages\\astroquery\\simbad\\core.py:138: UserWarning: Warning: The script line number 3 raised an error (recorded in the `errors` attribute of the result table): '--': this identifier has an incorrect format for catalog: \tDM : Durchmusterung catalogue\n",
      "  (error.line, error.msg))\n",
      "D:\\Anaconda3\\lib\\site-packages\\astroquery\\simbad\\core.py:138: UserWarning: Warning: The script line number 3 raised an error (recorded in the `errors` attribute of the result table): 'J235638.92-444309.4': No known catalog could be found\n",
      "  (error.line, error.msg))\n",
      "D:\\Anaconda3\\lib\\site-packages\\astroquery\\simbad\\core.py:138: UserWarning: Warning: The script line number 3 raised an error (recorded in the `errors` attribute of the result table): '6531037981670835584': No known catalog could be found\n",
      "  (error.line, error.msg))\n",
      "D:\\Anaconda3\\lib\\site-packages\\astroquery\\simbad\\core.py:138: UserWarning: Warning: The script line number 3 raised an error (recorded in the `errors` attribute of the result table): '22102804': No known catalog could be found\n",
      "  (error.line, error.msg))\n",
      "D:\\Anaconda3\\lib\\site-packages\\astroquery\\simbad\\core.py:138: UserWarning: Warning: The script line number 3 raised an error (recorded in the `errors` attribute of the result table): '--': this identifier has an incorrect format for catalog: \tDM : Durchmusterung catalogue\n",
      "  (error.line, error.msg))\n",
      "2019-10-07 10:23:39,995 INFO: root(<module>): There is more than 1 obs to download:    obsid   \n",
      "-----------\n",
      "18000016752\n",
      "17000037423\n",
      "18000993659\n",
      "2019-10-07 10:23:39,997 INFO: root(<module>): Retrieved info: name=TIC 144440290, obsID=hlsp_tasoc_tess_ffi_tic00144440290-s02-c0120_tess_v04_lc|tess2018234235059-s0002-0000000144440290-0121-s|hlsp_tasoc_tess_ffi_tic00144440290-s02-c1800_tess_v04_lc\n"
     ]
    },
    {
     "name": "stdout",
     "output_type": "stream",
     "text": [
      "Downloading URL https://mast.stsci.edu/api/v0.1/Download/file?uri=mast:TESS/product/tess2018235142541-s0002-s0002-0000000144440290-00109_dvt.fits to ./mastDownload\\TESS\\tess2018234235059-s0002-0000000144440290-0121-s\\tess2018235142541-s0002-s0002-0000000144440290-00109_dvt.fits ... [Done]\n",
      "Downloading URL https://mast.stsci.edu/api/v0.1/Download/file?uri=mast:TESS/product/tess2018234235059-s0002-0000000144440290-0121-s_lc.fits to ./mastDownload\\TESS\\tess2018234235059-s0002-0000000144440290-0121-s\\tess2018234235059-s0002-0000000144440290-0121-s_lc.fits ... [Done]\n",
      "Downloading URL https://mast.stsci.edu/api/v0.1/Download/file?uri=mast:TESS/product/tess2018234235059-s0002-0000000144440290-0121-s_tp.fits to ./mastDownload\\TESS\\tess2018234235059-s0002-0000000144440290-0121-s\\tess2018234235059-s0002-0000000144440290-0121-s_tp.fits ... [Done]\n",
      "---------------------------------------------\n",
      "Searching for target TIC 189844461\n"
     ]
    },
    {
     "name": "stderr",
     "output_type": "stream",
     "text": [
      "2019-10-07 10:23:49,034 INFO: root(<module>): *** TIC 189844461 (3/4) ********************************************************************************\n"
     ]
    },
    {
     "name": "stdout",
     "output_type": "stream",
     "text": [
      "Closest TIC ID to TIC 189844461: TIC 189844461, separation of 0.000000 arcsec. and a TESS mag. of 14.484600\n"
     ]
    },
    {
     "name": "stderr",
     "output_type": "stream",
     "text": [
      "D:\\Anaconda3\\lib\\site-packages\\astroquery\\simbad\\core.py:138: UserWarning: Warning: The script line number 3 raised an error (recorded in the `errors` attribute of the result table): Identifier not found in the database : TIC 189844461\n",
      "  (error.line, error.msg))\n",
      "D:\\Anaconda3\\lib\\site-packages\\astroquery\\simbad\\core.py:138: UserWarning: Warning: The script line number 3 raised an error (recorded in the `errors` attribute of the result table): '--': this identifier has an incorrect format for catalog: \tDM : Durchmusterung catalogue\n",
      "  (error.line, error.msg))\n",
      "D:\\Anaconda3\\lib\\site-packages\\astroquery\\simbad\\core.py:138: UserWarning: Warning: The script line number 3 raised an error (recorded in the `errors` attribute of the result table): '--': this identifier has an incorrect format for catalog: \tDM : Durchmusterung catalogue\n",
      "  (error.line, error.msg))\n",
      "D:\\Anaconda3\\lib\\site-packages\\astroquery\\simbad\\core.py:138: UserWarning: Warning: The script line number 3 raised an error (recorded in the `errors` attribute of the result table): '430-066922': No known catalog could be found\n",
      "  (error.line, error.msg))\n",
      "D:\\Anaconda3\\lib\\site-packages\\astroquery\\simbad\\core.py:138: UserWarning: Warning: The script line number 3 raised an error (recorded in the `errors` attribute of the result table): '16570855-0405499': No known catalog could be found\n",
      "  (error.line, error.msg))\n",
      "D:\\Anaconda3\\lib\\site-packages\\astroquery\\simbad\\core.py:138: UserWarning: Warning: The script line number 3 raised an error (recorded in the `errors` attribute of the result table): '--': this identifier has an incorrect format for catalog: \tDM : Durchmusterung catalogue\n",
      "  (error.line, error.msg))\n",
      "D:\\Anaconda3\\lib\\site-packages\\astroquery\\simbad\\core.py:138: UserWarning: Warning: The script line number 3 raised an error (recorded in the `errors` attribute of the result table): '--': this identifier has an incorrect format for catalog: \tDM : Durchmusterung catalogue\n",
      "  (error.line, error.msg))\n",
      "D:\\Anaconda3\\lib\\site-packages\\astroquery\\simbad\\core.py:138: UserWarning: Warning: The script line number 3 raised an error (recorded in the `errors` attribute of the result table): '4365623394974479488': No known catalog could be found\n",
      "  (error.line, error.msg))\n",
      "D:\\Anaconda3\\lib\\site-packages\\astroquery\\simbad\\core.py:138: UserWarning: Warning: The script line number 3 raised an error (recorded in the `errors` attribute of the result table): '--': this identifier has an incorrect format for catalog: \tDM : Durchmusterung catalogue\n",
      "  (error.line, error.msg))\n",
      "D:\\Anaconda3\\lib\\site-packages\\astroquery\\simbad\\core.py:138: UserWarning: Warning: The script line number 3 raised an error (recorded in the `errors` attribute of the result table): '--': this identifier has an incorrect format for catalog: \tDM : Durchmusterung catalogue\n",
      "  (error.line, error.msg))\n",
      "WARNING: NoResultsWarning: Query returned no results. [astroquery.mast.core]\n",
      "2019-10-07 10:23:54,076 WARNING: astropy(_showwarning): NoResultsWarning: Query returned no results.\n",
      "2019-10-07 10:23:59,694 INFO: root(<module>): TESS observations for TIC 189844461 will be in\n",
      "will not be observed\n",
      "2019-10-07 10:23:59,695 INFO: root(<module>): Retrieved info: name=TIC 189844461, obsID=N/A\n"
     ]
    },
    {
     "name": "stdout",
     "output_type": "stream",
     "text": [
      "Searching for target TIC 630647005\n"
     ]
    },
    {
     "name": "stderr",
     "output_type": "stream",
     "text": [
      "2019-10-07 10:23:59,696 INFO: root(<module>): *** TIC 630647005 (4/4) ********************************************************************************\n"
     ]
    },
    {
     "name": "stdout",
     "output_type": "stream",
     "text": [
      "Closest TIC ID to TIC 630647005: TIC 630647005, separation of 0.000000 arcsec. and a TESS mag. of 18.192600\n"
     ]
    },
    {
     "name": "stderr",
     "output_type": "stream",
     "text": [
      "D:\\Anaconda3\\lib\\site-packages\\astroquery\\simbad\\core.py:138: UserWarning: Warning: The script line number 3 raised an error (recorded in the `errors` attribute of the result table): Identifier not found in the database : TIC 630647005\n",
      "  (error.line, error.msg))\n",
      "D:\\Anaconda3\\lib\\site-packages\\astroquery\\simbad\\core.py:138: UserWarning: Warning: The script line number 3 raised an error (recorded in the `errors` attribute of the result table): '--': this identifier has an incorrect format for catalog: \tDM : Durchmusterung catalogue\n",
      "  (error.line, error.msg))\n",
      "D:\\Anaconda3\\lib\\site-packages\\astroquery\\simbad\\core.py:138: UserWarning: Warning: The script line number 3 raised an error (recorded in the `errors` attribute of the result table): '--': this identifier has an incorrect format for catalog: \tDM : Durchmusterung catalogue\n",
      "  (error.line, error.msg))\n",
      "D:\\Anaconda3\\lib\\site-packages\\astroquery\\simbad\\core.py:138: UserWarning: Warning: The script line number 3 raised an error (recorded in the `errors` attribute of the result table): '--': this identifier has an incorrect format for catalog: \tDM : Durchmusterung catalogue\n",
      "  (error.line, error.msg))\n",
      "D:\\Anaconda3\\lib\\site-packages\\astroquery\\simbad\\core.py:138: UserWarning: Warning: The script line number 3 raised an error (recorded in the `errors` attribute of the result table): '--': this identifier has an incorrect format for catalog: \tDM : Durchmusterung catalogue\n",
      "  (error.line, error.msg))\n",
      "D:\\Anaconda3\\lib\\site-packages\\astroquery\\simbad\\core.py:138: UserWarning: Warning: The script line number 3 raised an error (recorded in the `errors` attribute of the result table): '--': this identifier has an incorrect format for catalog: \tDM : Durchmusterung catalogue\n",
      "  (error.line, error.msg))\n",
      "D:\\Anaconda3\\lib\\site-packages\\astroquery\\simbad\\core.py:138: UserWarning: Warning: The script line number 3 raised an error (recorded in the `errors` attribute of the result table): '--': this identifier has an incorrect format for catalog: \tDM : Durchmusterung catalogue\n",
      "  (error.line, error.msg))\n",
      "D:\\Anaconda3\\lib\\site-packages\\astroquery\\simbad\\core.py:138: UserWarning: Warning: The script line number 3 raised an error (recorded in the `errors` attribute of the result table): '4612026729594288768': No known catalog could be found\n",
      "  (error.line, error.msg))\n",
      "D:\\Anaconda3\\lib\\site-packages\\astroquery\\simbad\\core.py:138: UserWarning: Warning: The script line number 3 raised an error (recorded in the `errors` attribute of the result table): '--': this identifier has an incorrect format for catalog: \tDM : Durchmusterung catalogue\n",
      "  (error.line, error.msg))\n",
      "D:\\Anaconda3\\lib\\site-packages\\astroquery\\simbad\\core.py:138: UserWarning: Warning: The script line number 3 raised an error (recorded in the `errors` attribute of the result table): '--': this identifier has an incorrect format for catalog: \tDM : Durchmusterung catalogue\n",
      "  (error.line, error.msg))\n",
      "WARNING: NoResultsWarning: Query returned no results. [astroquery.mast.core]\n",
      "2019-10-07 10:24:03,300 WARNING: astropy(_showwarning): NoResultsWarning: Query returned no results.\n",
      "2019-10-07 10:24:08,192 INFO: root(<module>): TESS observations for TIC 630647005 will be in\n",
      "will not be observed\n",
      "2019-10-07 10:24:08,193 INFO: root(<module>): Retrieved info: name=TIC 630647005, obsID=N/A\n"
     ]
    }
   ],
   "source": [
    "#from astroquery.mast import Tesscut\n",
    "from astroquery.mast import Catalogs\n",
    "from astropy.coordinates import SkyCoord\n",
    "from astroquery.simbad import Simbad\n",
    "from astropy.table import Table\n",
    "import numpy as np\n",
    "import astropy.units as u\n",
    "from astroquery.mast import Observations\n",
    "import os\n",
    "import logging\n",
    "###from basic_functions import stop\n",
    "\n",
    "from tessutils import TESSSectorLookUp\n",
    "\n",
    "\n",
    "#Go to https://exofop.ipac.caltech.edu/tess/view_toi.php\n",
    "#Download table as text file \n",
    "\n",
    "logging.basicConfig(format='%(asctime)s %(levelname)s: %(name)s(%(funcName)s): %(message)s', level=logging.INFO)\n",
    "\n",
    "dataDir = \"labdata\"\n",
    "\n",
    "StarListFName = os.path.join(dataDir, \"target_names.txt\")\n",
    "StarList = Table.read(StarListFName, format=\"ascii.no_header\", delimiter=\"|\")\n",
    "StarList['col1'].name = \"name\"\n",
    "\n",
    "tics = []\n",
    "dist2NearestTics = []\n",
    "obsIDList = []\n",
    "mags = []\n",
    "ras = []\n",
    "decs = []\n",
    "pathList = []\n",
    "TessMags = []\n",
    "sectorList = []\n",
    "\n",
    "for iTarget, targetName in enumerate(list(StarList[\"name\"])):\n",
    "    print('Searching for target '+targetName)\n",
    "    \n",
    "    logging.debug(\"{}\".format(\"*\" * 100))\n",
    "    logging.debug(\"{}\".format(\"*\" * 100))\n",
    "    logging.info(\"*** {} ({}/{}) {}\".format(targetName, iTarget+1, len(list(StarList[\"name\"])), \"*\" * 80))\n",
    "    \n",
    "    #Search for target in MAST database, more specifically in the TESS Input Catalog (TIC)\n",
    "    try:\n",
    "        StarListTics = Catalogs.query_object(targetName, radius=.02, catalog=\"TIC\")\n",
    "    except :#astroquery.exceptions.ResolverError():\n",
    "        logging.error(\"COULD NOT RESOLVE {} TO A SKY POSITION !!!!\".format(targetName))\n",
    "        continue\n",
    "    where_closest = np.argmin(StarListTics['dstArcSec'])\n",
    "    if len(np.array([where_closest]))!=1:stop('More than one or no target found')\n",
    "    \n",
    "    tics.append(StarListTics['ID'][where_closest])\n",
    "    dist2NearestTics.append(StarListTics['dstArcSec'][where_closest])\n",
    "    mags.append(StarListTics['Tmag'][where_closest])\n",
    "    TessMags.append(StarListTics['Tmag'][where_closest])\n",
    "    \n",
    "    #Store information about target\n",
    "    print(\"Closest TIC ID to %s: TIC %s, separation of %f arcsec. and a TESS mag. of %f\"%\n",
    "          (targetName, StarListTics['ID'][where_closest], StarListTics['dstArcSec'][where_closest],\n",
    "           StarListTics['Tmag'][where_closest]))\n",
    "\n",
    "    \n",
    "    #Try finding target in simbad catalog\n",
    "    simbadResults = Simbad.query_object(targetName,verbose=False)\n",
    "    if simbadResults is None:\n",
    "        for nam_typ in ['HIP', 'TYC', 'UCAC', 'TWOMASS', 'SDSS', 'ALLWISE', 'GAIA', 'APASS', 'KIC']:\n",
    "            simbadResults = Simbad.query_object(StarListTics[nam_typ][where_closest],verbose=False)\n",
    "            if simbadResults is not None:break\n",
    "    if simbadResults is not None:\n",
    "        coord = SkyCoord(simbadResults[\"RA\"][0], simbadResults[\"DEC\"][0], unit=[u.hourangle, u.deg])\n",
    "        ras.append(coord.ra.value)\n",
    "        raUnit = coord.ra.unit\n",
    "        decs.append(coord.dec.value)\n",
    "        decUnit = coord.dec.unit\n",
    "    else:\n",
    "        ras.append(StarListTics[\"ra\"][where_closest])\n",
    "        decs.append(StarListTics[\"dec\"][where_closest])        \n",
    "\n",
    "    #Retrieve data\n",
    "    obsTable = Observations.query_criteria(filters=[\"TESS\"], objectname=targetName, dataproduct_type=[\"TIMESERIES\"],radius=\"0.01 deg\")\n",
    "    \n",
    "    proceed = True\n",
    "    if len(obsTable) == 0:\n",
    "        proceed = False\n",
    "        obsIDList.append(np.nan)\n",
    "        pathList.append(\"NA\")\n",
    "        \n",
    "        sectorsTxt, sectorsNb = TESSSectorLookUp(targetName)\n",
    "        if len(sectorsNb) == 0:\n",
    "            sectorList.append(\"\")\n",
    "        elif len(sectorsNb) == 1:\n",
    "            sectorList.append(sectorsNb[0])\n",
    "        else:\n",
    "            sectorList.append(\",\".join([\"{}\".format(s) for s in sectorsNb]))\n",
    "                              \n",
    "        logging.info(\"TESS observations for {} will be in\\n{}\".format(targetName, sectorsTxt))\n",
    "        \n",
    "    if proceed == False:\n",
    "        logging.info(\"Retrieved info: name={}, obsID={}\".format(targetName, \"N/A\"))\n",
    "        continue\n",
    "    \n",
    "    dataProductsByObservation = Observations.get_product_list(obsTable)\n",
    "    \n",
    "    obsID = obsTable[\"obsid\"]\n",
    "    \n",
    "    logging.debug(\"Dumping obsTable info: {}\".format(obsTable))\n",
    "    if len(obsID) > 1:\n",
    "        logging.info(\"There is more than 1 obs to download: {}\".format(obsID))\n",
    "        #raise RuntimeError(\"You'll have to check this one by hand, there are objects close by.\")\n",
    "        sec_ = []\n",
    "        for obsrow in obsTable[\"obs_id\"]:\n",
    "            sec_.append(str(int(obsrow.split(\"-s\")[1].split(\"-\")[0])))\n",
    "        sectorList.append(\",\".join(sec_))\n",
    "        pathList.append(\"|\".join(obsTable[\"obs_id\"]))\n",
    "    elif len(obsID) == 0:\n",
    "        raise RuntimeError(\"No observation found --> you should change something\")\n",
    "    else:\n",
    "        pathList.append(obsTable[\"obs_id\"][0])\n",
    "        sectorList.append(int(obsTable[\"obs_id\"][0].split(\"-s\")[1].split(\"-\")[0]))\n",
    "\n",
    "    ### OLD: seems wrong: obsIDList.append(obsID[0])\n",
    "    obsIDList.append(pathList[-1])    \n",
    "    logging.info(\"Retrieved info: name={}, obsID={}\".format(targetName, pathList[-1]))\n",
    "    \n",
    "    Observations.download_products(obsID,\n",
    "                                   #dataproduct_type=[\"TIMESERIES\"],\n",
    "                                   obs_collection=[\"TESS\"],\n",
    "                                   extension=\"fits\")\n",
    "    \n",
    "    print('---------------------------------------------')\n",
    "\n",
    "StarList[\"RA\"] = ras\n",
    "StarList[\"RA\"].unit = raUnit\n",
    "StarList[\"DEC\"] = decs\n",
    "StarList[\"DEC\"].unit = decUnit\n",
    "StarList[\"TIC\"] = tics\n",
    "StarList[\"TessMag\"] = TessMags\n",
    "StarList[\"dist2TIC\"] = dist2NearestTics\n",
    "StarList[\"dist2TIC\"].unit = u.arcsec\n",
    "StarList[\"TessMag\"] = mags\n",
    "StarList[\"sectorName\"] = sectorList\n",
    "StarList[\"obsID\"] = obsIDList\n",
    "StarList[\"folderName\"] = pathList\n",
    "\n",
    "StarList.write(os.path.join(dataDir, \"targetsIds.fits\"), format=\"fits\", overwrite=True)\n"
   ]
  },
  {
   "cell_type": "code",
   "execution_count": 5,
   "metadata": {},
   "outputs": [
    {
     "data": {
      "text/plain": [
       "SIMPLE  =                    T / conforms to FITS standard                      \n",
       "BITPIX  =                    8 / array data type                                \n",
       "NAXIS   =                    0 / number of array dimensions                     \n",
       "EXTEND  =                    T                                                  "
      ]
     },
     "execution_count": 5,
     "metadata": {},
     "output_type": "execute_result"
    }
   ],
   "source": [
    "path = 'labdata/targetsIds.fits'\n",
    "targets = fits.open(path)\n",
    "targets[0].header"
   ]
  },
  {
   "cell_type": "code",
   "execution_count": 6,
   "metadata": {},
   "outputs": [
    {
     "name": "stdout",
     "output_type": "stream",
     "text": [
      "Filename: labdata/targetsIds.fits\n",
      "No.    Name      Ver    Type      Cards   Dimensions   Format\n",
      "  0  PRIMARY       1 PrimaryHDU       4   ()      \n",
      "  1                1 BinTableHDU     29   4R x 9C   [13A, D, D, 9A, D, D, 11A, 161A, 161A]   \n"
     ]
    }
   ],
   "source": [
    "targets.info()"
   ]
  },
  {
   "cell_type": "code",
   "execution_count": 7,
   "metadata": {},
   "outputs": [],
   "source": [
    "targets_data = fits.getdata(path)\n",
    "#histogram = plt.hist(targets_data.flatten(), bins='auto', color='red')"
   ]
  },
  {
   "cell_type": "code",
   "execution_count": null,
   "metadata": {},
   "outputs": [],
   "source": []
  }
 ],
 "metadata": {
  "kernelspec": {
   "display_name": "Python 3",
   "language": "python",
   "name": "python3"
  },
  "language_info": {
   "codemirror_mode": {
    "name": "ipython",
    "version": 3
   },
   "file_extension": ".py",
   "mimetype": "text/x-python",
   "name": "python",
   "nbconvert_exporter": "python",
   "pygments_lexer": "ipython3",
   "version": "3.7.3"
  }
 },
 "nbformat": 4,
 "nbformat_minor": 2
}
