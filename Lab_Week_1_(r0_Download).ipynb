{
 "cells": [
  {
   "cell_type": "markdown",
   "metadata": {},
   "source": [
    "## r0_Download.py"
   ]
  },
  {
   "cell_type": "code",
   "execution_count": 17,
   "metadata": {},
   "outputs": [
    {
     "name": "stdout",
     "output_type": "stream",
     "text": [
      "Collecting utils.TESSSectorLookUp\n"
     ]
    },
    {
     "name": "stderr",
     "output_type": "stream",
     "text": [
      "  ERROR: Could not find a version that satisfies the requirement utils.TESSSectorLookUp (from versions: none)\n",
      "ERROR: No matching distribution found for utils.TESSSectorLookUp\n"
     ]
    }
   ],
   "source": []
  },
  {
   "cell_type": "code",
   "execution_count": 20,
   "metadata": {},
   "outputs": [
    {
     "name": "stderr",
     "output_type": "stream",
     "text": [
      "2019-09-30 10:00:14,582 INFO: root(<module>): *** WASP-121 (1/4) ********************************************************************************\n",
      "2019-09-30 10:00:16,048 INFO: root(<module>): Closest TIC ID to WASP-121: TIC 22529346, separation of 0.000010 arcsec. and a TESS mag. of 10.056000\n",
      "2019-09-30 10:00:17,291 INFO: root(<module>): Retrieved info: name=WASP-121, obsID=tess2019006130736-s0007-0000000022529346-0131-s\n",
      "2019-09-30 10:00:17,541 INFO: astropy(_download_file): Found cached file ./mastDownload\\TESS\\tess2019006130736-s0007-0000000022529346-0131-s\\tess2019008025936-s0007-s0007-0000000022529346-00152_dvt.fits with expected size 4340160.\n"
     ]
    },
    {
     "name": "stdout",
     "output_type": "stream",
     "text": [
      "INFO: Found cached file ./mastDownload\\TESS\\tess2019006130736-s0007-0000000022529346-0131-s\\tess2019008025936-s0007-s0007-0000000022529346-00152_dvt.fits with expected size 4340160. [astroquery.query]\n"
     ]
    },
    {
     "name": "stderr",
     "output_type": "stream",
     "text": [
      "2019-09-30 10:00:17,955 INFO: astropy(_download_file): Found cached file ./mastDownload\\TESS\\tess2019006130736-s0007-0000000022529346-0131-s\\tess2019006130736-s0007-0000000022529346-0131-s_lc.fits with expected size 1791360.\n"
     ]
    },
    {
     "name": "stdout",
     "output_type": "stream",
     "text": [
      "INFO: Found cached file ./mastDownload\\TESS\\tess2019006130736-s0007-0000000022529346-0131-s\\tess2019006130736-s0007-0000000022529346-0131-s_lc.fits with expected size 1791360. [astroquery.query]\n"
     ]
    },
    {
     "name": "stderr",
     "output_type": "stream",
     "text": [
      "2019-09-30 10:00:18,367 INFO: astropy(_download_file): Found cached file ./mastDownload\\TESS\\tess2019006130736-s0007-0000000022529346-0131-s\\tess2019006130736-s0007-0000000022529346-0131-s_tp.fits with expected size 43153920.\n",
      "2019-09-30 10:00:18,369 INFO: root(<module>): *** TIC 144440290 (2/4) ********************************************************************************\n"
     ]
    },
    {
     "name": "stdout",
     "output_type": "stream",
     "text": [
      "INFO: Found cached file ./mastDownload\\TESS\\tess2019006130736-s0007-0000000022529346-0131-s\\tess2019006130736-s0007-0000000022529346-0131-s_tp.fits with expected size 43153920. [astroquery.query]\n"
     ]
    },
    {
     "name": "stderr",
     "output_type": "stream",
     "text": [
      "2019-09-30 10:00:20,114 INFO: root(<module>): Closest TIC ID to TIC 144440290: TIC 144440290, separation of 0.000017 arcsec. and a TESS mag. of 8.763500\n",
      "D:\\Anaconda3\\lib\\site-packages\\astroquery\\simbad\\core.py:138: UserWarning: Warning: The script line number 3 raised an error (recorded in the `errors` attribute of the result table): Identifier not found in the database : TIC 144440290\n",
      "  (error.line, error.msg))\n"
     ]
    },
    {
     "ename": "TypeError",
     "evalue": "'NoneType' object is not subscriptable",
     "output_type": "error",
     "traceback": [
      "\u001b[1;31m---------------------------------------------------------------------------\u001b[0m",
      "\u001b[1;31mTypeError\u001b[0m                                 Traceback (most recent call last)",
      "\u001b[1;32m<ipython-input-20-03eb728f956e>\u001b[0m in \u001b[0;36m<module>\u001b[1;34m\u001b[0m\n\u001b[0;32m     51\u001b[0m \u001b[1;33m\u001b[0m\u001b[0m\n\u001b[0;32m     52\u001b[0m     \u001b[0msimbadResults\u001b[0m \u001b[1;33m=\u001b[0m \u001b[0mSimbad\u001b[0m\u001b[1;33m.\u001b[0m\u001b[0mquery_object\u001b[0m\u001b[1;33m(\u001b[0m\u001b[0mtargetName\u001b[0m\u001b[1;33m)\u001b[0m\u001b[1;33m\u001b[0m\u001b[1;33m\u001b[0m\u001b[0m\n\u001b[1;32m---> 53\u001b[1;33m     \u001b[0mcoord\u001b[0m \u001b[1;33m=\u001b[0m \u001b[0mSkyCoord\u001b[0m\u001b[1;33m(\u001b[0m\u001b[0msimbadResults\u001b[0m\u001b[1;33m[\u001b[0m\u001b[1;34m\"RA\"\u001b[0m\u001b[1;33m]\u001b[0m\u001b[1;33m[\u001b[0m\u001b[1;36m0\u001b[0m\u001b[1;33m]\u001b[0m\u001b[1;33m,\u001b[0m \u001b[0msimbadResults\u001b[0m\u001b[1;33m[\u001b[0m\u001b[1;34m\"DEC\"\u001b[0m\u001b[1;33m]\u001b[0m\u001b[1;33m[\u001b[0m\u001b[1;36m0\u001b[0m\u001b[1;33m]\u001b[0m\u001b[1;33m,\u001b[0m \u001b[0munit\u001b[0m\u001b[1;33m=\u001b[0m\u001b[1;33m[\u001b[0m\u001b[0mu\u001b[0m\u001b[1;33m.\u001b[0m\u001b[0mhourangle\u001b[0m\u001b[1;33m,\u001b[0m \u001b[0mu\u001b[0m\u001b[1;33m.\u001b[0m\u001b[0mdeg\u001b[0m\u001b[1;33m]\u001b[0m\u001b[1;33m)\u001b[0m\u001b[1;33m\u001b[0m\u001b[1;33m\u001b[0m\u001b[0m\n\u001b[0m\u001b[0;32m     54\u001b[0m     \u001b[0mras\u001b[0m\u001b[1;33m.\u001b[0m\u001b[0mappend\u001b[0m\u001b[1;33m(\u001b[0m\u001b[0mcoord\u001b[0m\u001b[1;33m.\u001b[0m\u001b[0mra\u001b[0m\u001b[1;33m.\u001b[0m\u001b[0mvalue\u001b[0m\u001b[1;33m)\u001b[0m\u001b[1;33m\u001b[0m\u001b[1;33m\u001b[0m\u001b[0m\n\u001b[0;32m     55\u001b[0m     \u001b[0mraUnit\u001b[0m \u001b[1;33m=\u001b[0m \u001b[0mcoord\u001b[0m\u001b[1;33m.\u001b[0m\u001b[0mra\u001b[0m\u001b[1;33m.\u001b[0m\u001b[0munit\u001b[0m\u001b[1;33m\u001b[0m\u001b[1;33m\u001b[0m\u001b[0m\n",
      "\u001b[1;31mTypeError\u001b[0m: 'NoneType' object is not subscriptable"
     ]
    }
   ],
   "source": [
    "#from astroquery.mast import Tesscut\n",
    "from astroquery.mast import Catalogs\n",
    "from astropy.coordinates import SkyCoord\n",
    "from astroquery.simbad import Simbad\n",
    "from astropy.table import Table\n",
    "import numpy as np\n",
    "import astropy.units as u\n",
    "from astroquery.mast import Observations\n",
    "import os\n",
    "import logging\n",
    "\n",
    "#from utils import TESSSectorLookUp\n",
    "\n",
    "logging.basicConfig(format='%(asctime)s %(levelname)s: %(name)s(%(funcName)s): %(message)s', level=logging.INFO)\n",
    "\n",
    "dataDir = \"labdata\"\n",
    "\n",
    "cheopsListFName = os.path.join(dataDir, \"target_names.txt\")\n",
    "cheopsList = Table.read(cheopsListFName, format=\"ascii.no_header\", delimiter=\"|\")\n",
    "cheopsList['col1'].name = \"name\"\n",
    "\n",
    "tics = []\n",
    "dist2NearestTics = []\n",
    "obsIDList = []\n",
    "mags = []\n",
    "ras = []\n",
    "decs = []\n",
    "pathList = []\n",
    "TessMags = []\n",
    "sectorList = []\n",
    "\n",
    "for iTarget, targetName in enumerate(list(cheopsList[\"name\"])):\n",
    "    \n",
    "    logging.debug(\"{}\".format(\"*\" * 100))\n",
    "    logging.debug(\"{}\".format(\"*\" * 100))\n",
    "    logging.info(\"*** {} ({}/{}) {}\".format(targetName, iTarget+1, len(list(cheopsList[\"name\"])), \"*\" * 80))\n",
    "    try:\n",
    "        cheopsListTics = Catalogs.query_object(targetName, radius=.02, catalog=\"TIC\")\n",
    "    except :#astroquery.exceptions.ResolverError():\n",
    "        logging.error(\"COULD NOT RESOLVE {} TO A SKY POSITION !!!!\".format(targetName))\n",
    "        continue\n",
    "    where_closest = np.argmin(cheopsListTics['dstArcSec'])\n",
    "    \n",
    "    tics.append(cheopsListTics['ID'][where_closest])\n",
    "    dist2NearestTics.append(cheopsListTics['dstArcSec'][where_closest])\n",
    "    mags.append(cheopsListTics['Tmag'][where_closest])\n",
    "\n",
    "    logging.info(\"Closest TIC ID to %s: TIC %s, separation of %f arcsec. and a TESS mag. of %f\"%\n",
    "          (targetName, cheopsListTics['ID'][where_closest], cheopsListTics['dstArcSec'][where_closest],\n",
    "           cheopsListTics['Tmag'][where_closest]))\n",
    "\n",
    "    simbadResults = Simbad.query_object(targetName)\n",
    "    coord = SkyCoord(simbadResults[\"RA\"][0], simbadResults[\"DEC\"][0], unit=[u.hourangle, u.deg]) #This is a bad line, Globa_Download should have alleviated it.\n",
    "    ras.append(coord.ra.value)\n",
    "    raUnit = coord.ra.unit\n",
    "    decs.append(coord.dec.value)\n",
    "    decUnit = coord.dec.unit\n",
    "    TessMags.append(cheopsListTics['Tmag'][where_closest])\n",
    "\n",
    "    obsTable = Observations.query_criteria(filters=[\"TESS\"], objectname=targetName, dataproduct_type=[\"TIMESERIES\"],radius=\"0.01 deg\")\n",
    "    \n",
    "    proceed = True\n",
    "    if len(obsTable) == 0:\n",
    "        proceed = False\n",
    "        obsIDList.append(np.nan)\n",
    "        pathList.append(\"NA\")\n",
    "        \n",
    "        sectorsTxt, sectorsNb = TESSSectorLookUp(targetName)\n",
    "        if len(sectorsNb) == 0:\n",
    "            sectorList.append(\"\")\n",
    "        elif len(sectorsNb) == 1:\n",
    "            sectorList.append(sectorsNb[0])\n",
    "        else:\n",
    "            sectorList.append(\",\".join([\"{}\".format(s) for s in sectorsNb]))\n",
    "                              \n",
    "        logging.info(\"TESS observations for {} will be in\\n{}\".format(targetName, sectorsTxt))\n",
    "        \n",
    "    if proceed == False:\n",
    "        logging.info(\"Retrieved info: name={}, obsID={}\".format(targetName, \"N/A\"))\n",
    "        continue\n",
    "    \n",
    "    dataProductsByObservation = Observations.get_product_list(obsTable)\n",
    "    \n",
    "    obsID = obsTable[\"obsid\"]\n",
    "    \n",
    "    logging.debug(\"Dumping obsTable info: {}\".format(obsTable))\n",
    "    if len(obsID) > 1:\n",
    "        logging.info(\"There is more than 1 obs to download: {}\".format(obsID))\n",
    "        #raise RuntimeError(\"You'll have to check this one by hand, there are objects close by.\")\n",
    "        sec_ = []\n",
    "        for obsrow in obsTable[\"obs_id\"]:\n",
    "            sec_.append(str(int(obsrow.split(\"-s\")[1].split(\"-\")[0])))\n",
    "        sectorList.append(\",\".join(sec_))\n",
    "        pathList.append(\"|\".join(obsTable[\"obs_id\"]))\n",
    "    elif len(obsID) == 0:\n",
    "        raise RuntimeError(\"No observation found --> you should change something\")\n",
    "    else:\n",
    "        pathList.append(obsTable[\"obs_id\"][0])\n",
    "        sectorList.append(int(obsTable[\"obs_id\"][0].split(\"-s\")[1].split(\"-\")[0]))\n",
    "\n",
    "    ### OLD: seems wrong: obsIDList.append(obsID[0])\n",
    "    obsIDList.append(pathList[-1])    \n",
    "    logging.info(\"Retrieved info: name={}, obsID={}\".format(targetName, pathList[-1]))\n",
    "    \n",
    "    Observations.download_products(obsID,\n",
    "                                   #dataproduct_type=[\"TIMESERIES\"],\n",
    "                                   obs_collection=[\"TESS\"],\n",
    "                                   extension=\"fits\")\n",
    "\n",
    "cheopsList[\"RA\"] = ras\n",
    "cheopsList[\"RA\"].unit = raUnit\n",
    "cheopsList[\"DEC\"] = decs\n",
    "cheopsList[\"DEC\"].unit = decUnit\n",
    "cheopsList[\"TIC\"] = tics\n",
    "cheopsList[\"TessMag\"] = TessMags\n",
    "cheopsList[\"dist2TIC\"] = dist2NearestTics\n",
    "cheopsList[\"dist2TIC\"].unit = u.arcsec\n",
    "cheopsList[\"TessMag\"] = mags\n",
    "cheopsList[\"sectorName\"] = sectorList\n",
    "cheopsList[\"obsID\"] = obsIDList\n",
    "cheopsList[\"folderName\"] = pathList\n",
    "\n",
    "cheopsList.write(os.path.join(dataDir, \"targetsIds.fits\"), format=\"fits\", overwrite=True)"
   ]
  },
  {
   "cell_type": "code",
   "execution_count": 2,
   "metadata": {},
   "outputs": [],
   "source": []
  },
  {
   "cell_type": "code",
   "execution_count": 13,
   "metadata": {},
   "outputs": [
    {
     "ename": "ValueError",
     "evalue": "could not convert string to float: 'TIC'",
     "output_type": "error",
     "traceback": [
      "\u001b[1;31m---------------------------------------------------------------------------\u001b[0m",
      "\u001b[1;31mValueError\u001b[0m                                Traceback (most recent call last)",
      "\u001b[1;32m<ipython-input-13-bfac82215eaf>\u001b[0m in \u001b[0;36m<module>\u001b[1;34m\u001b[0m\n\u001b[1;32m----> 1\u001b[1;33m \u001b[0mtoi\u001b[0m \u001b[1;33m=\u001b[0m \u001b[0mnp\u001b[0m\u001b[1;33m.\u001b[0m\u001b[0mloadtxt\u001b[0m\u001b[1;33m(\u001b[0m\u001b[1;34m'download_toi_text.txt'\u001b[0m\u001b[1;33m)\u001b[0m\u001b[1;33m\u001b[0m\u001b[1;33m\u001b[0m\u001b[0m\n\u001b[0m",
      "\u001b[1;32mD:\\Anaconda3\\lib\\site-packages\\numpy\\lib\\npyio.py\u001b[0m in \u001b[0;36mloadtxt\u001b[1;34m(fname, dtype, comments, delimiter, converters, skiprows, usecols, unpack, ndmin, encoding, max_rows)\u001b[0m\n\u001b[0;32m   1139\u001b[0m         \u001b[1;31m# converting the data\u001b[0m\u001b[1;33m\u001b[0m\u001b[1;33m\u001b[0m\u001b[1;33m\u001b[0m\u001b[0m\n\u001b[0;32m   1140\u001b[0m         \u001b[0mX\u001b[0m \u001b[1;33m=\u001b[0m \u001b[1;32mNone\u001b[0m\u001b[1;33m\u001b[0m\u001b[1;33m\u001b[0m\u001b[0m\n\u001b[1;32m-> 1141\u001b[1;33m         \u001b[1;32mfor\u001b[0m \u001b[0mx\u001b[0m \u001b[1;32min\u001b[0m \u001b[0mread_data\u001b[0m\u001b[1;33m(\u001b[0m\u001b[0m_loadtxt_chunksize\u001b[0m\u001b[1;33m)\u001b[0m\u001b[1;33m:\u001b[0m\u001b[1;33m\u001b[0m\u001b[1;33m\u001b[0m\u001b[0m\n\u001b[0m\u001b[0;32m   1142\u001b[0m             \u001b[1;32mif\u001b[0m \u001b[0mX\u001b[0m \u001b[1;32mis\u001b[0m \u001b[1;32mNone\u001b[0m\u001b[1;33m:\u001b[0m\u001b[1;33m\u001b[0m\u001b[1;33m\u001b[0m\u001b[0m\n\u001b[0;32m   1143\u001b[0m                 \u001b[0mX\u001b[0m \u001b[1;33m=\u001b[0m \u001b[0mnp\u001b[0m\u001b[1;33m.\u001b[0m\u001b[0marray\u001b[0m\u001b[1;33m(\u001b[0m\u001b[0mx\u001b[0m\u001b[1;33m,\u001b[0m \u001b[0mdtype\u001b[0m\u001b[1;33m)\u001b[0m\u001b[1;33m\u001b[0m\u001b[1;33m\u001b[0m\u001b[0m\n",
      "\u001b[1;32mD:\\Anaconda3\\lib\\site-packages\\numpy\\lib\\npyio.py\u001b[0m in \u001b[0;36mread_data\u001b[1;34m(chunk_size)\u001b[0m\n\u001b[0;32m   1066\u001b[0m \u001b[1;33m\u001b[0m\u001b[0m\n\u001b[0;32m   1067\u001b[0m             \u001b[1;31m# Convert each value according to its column and store\u001b[0m\u001b[1;33m\u001b[0m\u001b[1;33m\u001b[0m\u001b[1;33m\u001b[0m\u001b[0m\n\u001b[1;32m-> 1068\u001b[1;33m             \u001b[0mitems\u001b[0m \u001b[1;33m=\u001b[0m \u001b[1;33m[\u001b[0m\u001b[0mconv\u001b[0m\u001b[1;33m(\u001b[0m\u001b[0mval\u001b[0m\u001b[1;33m)\u001b[0m \u001b[1;32mfor\u001b[0m \u001b[1;33m(\u001b[0m\u001b[0mconv\u001b[0m\u001b[1;33m,\u001b[0m \u001b[0mval\u001b[0m\u001b[1;33m)\u001b[0m \u001b[1;32min\u001b[0m \u001b[0mzip\u001b[0m\u001b[1;33m(\u001b[0m\u001b[0mconverters\u001b[0m\u001b[1;33m,\u001b[0m \u001b[0mvals\u001b[0m\u001b[1;33m)\u001b[0m\u001b[1;33m]\u001b[0m\u001b[1;33m\u001b[0m\u001b[1;33m\u001b[0m\u001b[0m\n\u001b[0m\u001b[0;32m   1069\u001b[0m \u001b[1;33m\u001b[0m\u001b[0m\n\u001b[0;32m   1070\u001b[0m             \u001b[1;31m# Then pack it according to the dtype's nesting\u001b[0m\u001b[1;33m\u001b[0m\u001b[1;33m\u001b[0m\u001b[1;33m\u001b[0m\u001b[0m\n",
      "\u001b[1;32mD:\\Anaconda3\\lib\\site-packages\\numpy\\lib\\npyio.py\u001b[0m in \u001b[0;36m<listcomp>\u001b[1;34m(.0)\u001b[0m\n\u001b[0;32m   1066\u001b[0m \u001b[1;33m\u001b[0m\u001b[0m\n\u001b[0;32m   1067\u001b[0m             \u001b[1;31m# Convert each value according to its column and store\u001b[0m\u001b[1;33m\u001b[0m\u001b[1;33m\u001b[0m\u001b[1;33m\u001b[0m\u001b[0m\n\u001b[1;32m-> 1068\u001b[1;33m             \u001b[0mitems\u001b[0m \u001b[1;33m=\u001b[0m \u001b[1;33m[\u001b[0m\u001b[0mconv\u001b[0m\u001b[1;33m(\u001b[0m\u001b[0mval\u001b[0m\u001b[1;33m)\u001b[0m \u001b[1;32mfor\u001b[0m \u001b[1;33m(\u001b[0m\u001b[0mconv\u001b[0m\u001b[1;33m,\u001b[0m \u001b[0mval\u001b[0m\u001b[1;33m)\u001b[0m \u001b[1;32min\u001b[0m \u001b[0mzip\u001b[0m\u001b[1;33m(\u001b[0m\u001b[0mconverters\u001b[0m\u001b[1;33m,\u001b[0m \u001b[0mvals\u001b[0m\u001b[1;33m)\u001b[0m\u001b[1;33m]\u001b[0m\u001b[1;33m\u001b[0m\u001b[1;33m\u001b[0m\u001b[0m\n\u001b[0m\u001b[0;32m   1069\u001b[0m \u001b[1;33m\u001b[0m\u001b[0m\n\u001b[0;32m   1070\u001b[0m             \u001b[1;31m# Then pack it according to the dtype's nesting\u001b[0m\u001b[1;33m\u001b[0m\u001b[1;33m\u001b[0m\u001b[1;33m\u001b[0m\u001b[0m\n",
      "\u001b[1;32mD:\\Anaconda3\\lib\\site-packages\\numpy\\lib\\npyio.py\u001b[0m in \u001b[0;36mfloatconv\u001b[1;34m(x)\u001b[0m\n\u001b[0;32m    773\u001b[0m         \u001b[1;32mif\u001b[0m \u001b[1;34m'0x'\u001b[0m \u001b[1;32min\u001b[0m \u001b[0mx\u001b[0m\u001b[1;33m:\u001b[0m\u001b[1;33m\u001b[0m\u001b[1;33m\u001b[0m\u001b[0m\n\u001b[0;32m    774\u001b[0m             \u001b[1;32mreturn\u001b[0m \u001b[0mfloat\u001b[0m\u001b[1;33m.\u001b[0m\u001b[0mfromhex\u001b[0m\u001b[1;33m(\u001b[0m\u001b[0mx\u001b[0m\u001b[1;33m)\u001b[0m\u001b[1;33m\u001b[0m\u001b[1;33m\u001b[0m\u001b[0m\n\u001b[1;32m--> 775\u001b[1;33m         \u001b[1;32mreturn\u001b[0m \u001b[0mfloat\u001b[0m\u001b[1;33m(\u001b[0m\u001b[0mx\u001b[0m\u001b[1;33m)\u001b[0m\u001b[1;33m\u001b[0m\u001b[1;33m\u001b[0m\u001b[0m\n\u001b[0m\u001b[0;32m    776\u001b[0m \u001b[1;33m\u001b[0m\u001b[0m\n\u001b[0;32m    777\u001b[0m     \u001b[0mtyp\u001b[0m \u001b[1;33m=\u001b[0m \u001b[0mdtype\u001b[0m\u001b[1;33m.\u001b[0m\u001b[0mtype\u001b[0m\u001b[1;33m\u001b[0m\u001b[1;33m\u001b[0m\u001b[0m\n",
      "\u001b[1;31mValueError\u001b[0m: could not convert string to float: 'TIC'"
     ]
    }
   ],
   "source": []
  },
  {
   "cell_type": "code",
   "execution_count": null,
   "metadata": {},
   "outputs": [],
   "source": []
  },
  {
   "cell_type": "code",
   "execution_count": null,
   "metadata": {},
   "outputs": [],
   "source": []
  }
 ],
 "metadata": {
  "kernelspec": {
   "display_name": "Python 3",
   "language": "python",
   "name": "python3"
  },
  "language_info": {
   "codemirror_mode": {
    "name": "ipython",
    "version": 3
   },
   "file_extension": ".py",
   "mimetype": "text/x-python",
   "name": "python",
   "nbconvert_exporter": "python",
   "pygments_lexer": "ipython3",
   "version": "3.7.3"
  }
 },
 "nbformat": 4,
 "nbformat_minor": 2
}
